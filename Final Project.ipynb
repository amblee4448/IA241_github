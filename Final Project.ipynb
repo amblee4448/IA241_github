{
 "cells": [
  {
   "cell_type": "markdown",
   "id": "03ccb2b6",
   "metadata": {},
   "source": [
    "# Analyzing Covid-19 Data in Andorra"
   ]
  },
  {
   "cell_type": "markdown",
   "id": "9d68fd41",
   "metadata": {},
   "source": [
    "## data source"
   ]
  },
  {
   "cell_type": "markdown",
   "id": "3d05512a",
   "metadata": {},
   "source": [
    "The data is from [European Centre for Disease Prevention and Control](https://www.ecdc.europa.eu/en/publications-data/download-todays-data-geographic-distribution-covid-19-cases-worldwide)"
   ]
  },
  {
   "cell_type": "markdown",
   "id": "1784e740",
   "metadata": {},
   "source": [
    "![Covid image](data:image/png;base64,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)"
   ]
  },
  {
   "cell_type": "code",
   "execution_count": 2,
   "id": "444f658c",
   "metadata": {},
   "outputs": [],
   "source": [
    "%matplotlib inline\n",
    "import pandas"
   ]
  },
  {
   "cell_type": "markdown",
   "id": "02c9d2f0",
   "metadata": {},
   "source": [
    "# Import Data from S3 Bucket"
   ]
  },
  {
   "cell_type": "code",
   "execution_count": 5,
   "id": "dda09de0",
   "metadata": {},
   "outputs": [
    {
     "data": {
      "text/html": [
       "<div>\n",
       "<style scoped>\n",
       "    .dataframe tbody tr th:only-of-type {\n",
       "        vertical-align: middle;\n",
       "    }\n",
       "\n",
       "    .dataframe tbody tr th {\n",
       "        vertical-align: top;\n",
       "    }\n",
       "\n",
       "    .dataframe thead th {\n",
       "        text-align: right;\n",
       "    }\n",
       "</style>\n",
       "<table border=\"1\" class=\"dataframe\">\n",
       "  <thead>\n",
       "    <tr style=\"text-align: right;\">\n",
       "      <th></th>\n",
       "      <th>dateRep</th>\n",
       "      <th>day</th>\n",
       "      <th>month</th>\n",
       "      <th>year</th>\n",
       "      <th>cases</th>\n",
       "      <th>deaths</th>\n",
       "      <th>countriesAndTerritories</th>\n",
       "      <th>geoId</th>\n",
       "      <th>countryterritoryCode</th>\n",
       "      <th>popData2019</th>\n",
       "      <th>continentExp</th>\n",
       "      <th>Cumulative_number_for_14_days_of_COVID-19_cases_per_100000</th>\n",
       "    </tr>\n",
       "  </thead>\n",
       "  <tbody>\n",
       "    <tr>\n",
       "      <th>0</th>\n",
       "      <td>14/12/2020</td>\n",
       "      <td>14</td>\n",
       "      <td>12</td>\n",
       "      <td>2020</td>\n",
       "      <td>746</td>\n",
       "      <td>6</td>\n",
       "      <td>Afghanistan</td>\n",
       "      <td>AF</td>\n",
       "      <td>AFG</td>\n",
       "      <td>38041757.0</td>\n",
       "      <td>Asia</td>\n",
       "      <td>9.013779</td>\n",
       "    </tr>\n",
       "    <tr>\n",
       "      <th>1</th>\n",
       "      <td>13/12/2020</td>\n",
       "      <td>13</td>\n",
       "      <td>12</td>\n",
       "      <td>2020</td>\n",
       "      <td>298</td>\n",
       "      <td>9</td>\n",
       "      <td>Afghanistan</td>\n",
       "      <td>AF</td>\n",
       "      <td>AFG</td>\n",
       "      <td>38041757.0</td>\n",
       "      <td>Asia</td>\n",
       "      <td>7.052776</td>\n",
       "    </tr>\n",
       "    <tr>\n",
       "      <th>2</th>\n",
       "      <td>2020-12-12 00:00:00</td>\n",
       "      <td>12</td>\n",
       "      <td>12</td>\n",
       "      <td>2020</td>\n",
       "      <td>113</td>\n",
       "      <td>11</td>\n",
       "      <td>Afghanistan</td>\n",
       "      <td>AF</td>\n",
       "      <td>AFG</td>\n",
       "      <td>38041757.0</td>\n",
       "      <td>Asia</td>\n",
       "      <td>6.868768</td>\n",
       "    </tr>\n",
       "    <tr>\n",
       "      <th>3</th>\n",
       "      <td>2020-11-12 00:00:00</td>\n",
       "      <td>11</td>\n",
       "      <td>12</td>\n",
       "      <td>2020</td>\n",
       "      <td>63</td>\n",
       "      <td>10</td>\n",
       "      <td>Afghanistan</td>\n",
       "      <td>AF</td>\n",
       "      <td>AFG</td>\n",
       "      <td>38041757.0</td>\n",
       "      <td>Asia</td>\n",
       "      <td>7.134266</td>\n",
       "    </tr>\n",
       "    <tr>\n",
       "      <th>4</th>\n",
       "      <td>2020-10-12 00:00:00</td>\n",
       "      <td>10</td>\n",
       "      <td>12</td>\n",
       "      <td>2020</td>\n",
       "      <td>202</td>\n",
       "      <td>16</td>\n",
       "      <td>Afghanistan</td>\n",
       "      <td>AF</td>\n",
       "      <td>AFG</td>\n",
       "      <td>38041757.0</td>\n",
       "      <td>Asia</td>\n",
       "      <td>6.968658</td>\n",
       "    </tr>\n",
       "    <tr>\n",
       "      <th>5</th>\n",
       "      <td>2020-09-12 00:00:00</td>\n",
       "      <td>9</td>\n",
       "      <td>12</td>\n",
       "      <td>2020</td>\n",
       "      <td>135</td>\n",
       "      <td>13</td>\n",
       "      <td>Afghanistan</td>\n",
       "      <td>AF</td>\n",
       "      <td>AFG</td>\n",
       "      <td>38041757.0</td>\n",
       "      <td>Asia</td>\n",
       "      <td>6.963401</td>\n",
       "    </tr>\n",
       "    <tr>\n",
       "      <th>6</th>\n",
       "      <td>2020-08-12 00:00:00</td>\n",
       "      <td>8</td>\n",
       "      <td>12</td>\n",
       "      <td>2020</td>\n",
       "      <td>200</td>\n",
       "      <td>6</td>\n",
       "      <td>Afghanistan</td>\n",
       "      <td>AF</td>\n",
       "      <td>AFG</td>\n",
       "      <td>38041757.0</td>\n",
       "      <td>Asia</td>\n",
       "      <td>7.094835</td>\n",
       "    </tr>\n",
       "    <tr>\n",
       "      <th>7</th>\n",
       "      <td>2020-07-12 00:00:00</td>\n",
       "      <td>7</td>\n",
       "      <td>12</td>\n",
       "      <td>2020</td>\n",
       "      <td>210</td>\n",
       "      <td>26</td>\n",
       "      <td>Afghanistan</td>\n",
       "      <td>AF</td>\n",
       "      <td>AFG</td>\n",
       "      <td>38041757.0</td>\n",
       "      <td>Asia</td>\n",
       "      <td>7.215755</td>\n",
       "    </tr>\n",
       "    <tr>\n",
       "      <th>8</th>\n",
       "      <td>2020-06-12 00:00:00</td>\n",
       "      <td>6</td>\n",
       "      <td>12</td>\n",
       "      <td>2020</td>\n",
       "      <td>234</td>\n",
       "      <td>10</td>\n",
       "      <td>Afghanistan</td>\n",
       "      <td>AF</td>\n",
       "      <td>AFG</td>\n",
       "      <td>38041757.0</td>\n",
       "      <td>Asia</td>\n",
       "      <td>7.326160</td>\n",
       "    </tr>\n",
       "    <tr>\n",
       "      <th>9</th>\n",
       "      <td>2020-05-12 00:00:00</td>\n",
       "      <td>5</td>\n",
       "      <td>12</td>\n",
       "      <td>2020</td>\n",
       "      <td>235</td>\n",
       "      <td>18</td>\n",
       "      <td>Afghanistan</td>\n",
       "      <td>AF</td>\n",
       "      <td>AFG</td>\n",
       "      <td>38041757.0</td>\n",
       "      <td>Asia</td>\n",
       "      <td>7.115865</td>\n",
       "    </tr>\n",
       "  </tbody>\n",
       "</table>\n",
       "</div>"
      ],
      "text/plain": [
       "               dateRep  day  month  year  cases  deaths  \\\n",
       "0           14/12/2020   14     12  2020    746       6   \n",
       "1           13/12/2020   13     12  2020    298       9   \n",
       "2  2020-12-12 00:00:00   12     12  2020    113      11   \n",
       "3  2020-11-12 00:00:00   11     12  2020     63      10   \n",
       "4  2020-10-12 00:00:00   10     12  2020    202      16   \n",
       "5  2020-09-12 00:00:00    9     12  2020    135      13   \n",
       "6  2020-08-12 00:00:00    8     12  2020    200       6   \n",
       "7  2020-07-12 00:00:00    7     12  2020    210      26   \n",
       "8  2020-06-12 00:00:00    6     12  2020    234      10   \n",
       "9  2020-05-12 00:00:00    5     12  2020    235      18   \n",
       "\n",
       "  countriesAndTerritories geoId countryterritoryCode  popData2019  \\\n",
       "0             Afghanistan    AF                  AFG   38041757.0   \n",
       "1             Afghanistan    AF                  AFG   38041757.0   \n",
       "2             Afghanistan    AF                  AFG   38041757.0   \n",
       "3             Afghanistan    AF                  AFG   38041757.0   \n",
       "4             Afghanistan    AF                  AFG   38041757.0   \n",
       "5             Afghanistan    AF                  AFG   38041757.0   \n",
       "6             Afghanistan    AF                  AFG   38041757.0   \n",
       "7             Afghanistan    AF                  AFG   38041757.0   \n",
       "8             Afghanistan    AF                  AFG   38041757.0   \n",
       "9             Afghanistan    AF                  AFG   38041757.0   \n",
       "\n",
       "  continentExp  Cumulative_number_for_14_days_of_COVID-19_cases_per_100000  \n",
       "0         Asia                                           9.013779           \n",
       "1         Asia                                           7.052776           \n",
       "2         Asia                                           6.868768           \n",
       "3         Asia                                           7.134266           \n",
       "4         Asia                                           6.968658           \n",
       "5         Asia                                           6.963401           \n",
       "6         Asia                                           7.094835           \n",
       "7         Asia                                           7.215755           \n",
       "8         Asia                                           7.326160           \n",
       "9         Asia                                           7.115865           "
      ]
     },
     "execution_count": 5,
     "metadata": {},
     "output_type": "execute_result"
    }
   ],
   "source": [
    "df=pandas.read_excel('s3://ia241-lee/covid_data.xls')\n",
    "df[:10]"
   ]
  },
  {
   "cell_type": "markdown",
   "id": "80642505",
   "metadata": {},
   "source": [
    "## List of Unique Countries"
   ]
  },
  {
   "cell_type": "code",
   "execution_count": 6,
   "id": "63eba522",
   "metadata": {},
   "outputs": [
    {
     "data": {
      "text/plain": [
       "array(['Afghanistan', 'Albania', 'Algeria', 'Andorra', 'Angola',\n",
       "       'Anguilla', 'Antigua_and_Barbuda', 'Argentina', 'Armenia', 'Aruba',\n",
       "       'Australia', 'Austria', 'Azerbaijan', 'Bahamas', 'Bahrain',\n",
       "       'Bangladesh', 'Barbados', 'Belarus', 'Belgium', 'Belize', 'Benin',\n",
       "       'Bermuda', 'Bhutan', 'Bolivia',\n",
       "       'Bonaire, Saint Eustatius and Saba', 'Bosnia_and_Herzegovina',\n",
       "       'Botswana', 'Brazil', 'British_Virgin_Islands',\n",
       "       'Brunei_Darussalam', 'Bulgaria', 'Burkina_Faso', 'Burundi',\n",
       "       'Cambodia', 'Cameroon', 'Canada', 'Cape_Verde',\n",
       "       'Cases_on_an_international_conveyance_Japan', 'Cayman_Islands',\n",
       "       'Central_African_Republic', 'Chad', 'Chile', 'China', 'Colombia',\n",
       "       'Comoros', 'Congo', 'Costa_Rica', 'Cote_dIvoire', 'Croatia',\n",
       "       'Cuba', 'CuraÃ§ao', 'Cyprus', 'Czechia',\n",
       "       'Democratic_Republic_of_the_Congo', 'Denmark', 'Djibouti',\n",
       "       'Dominica', 'Dominican_Republic', 'Ecuador', 'Egypt',\n",
       "       'El_Salvador', 'Equatorial_Guinea', 'Eritrea', 'Estonia',\n",
       "       'Eswatini', 'Ethiopia', 'Falkland_Islands_(Malvinas)',\n",
       "       'Faroe_Islands', 'Fiji', 'Finland', 'France', 'French_Polynesia',\n",
       "       'Gabon', 'Gambia', 'Georgia', 'Germany', 'Ghana', 'Gibraltar',\n",
       "       'Greece', 'Greenland', 'Grenada', 'Guam', 'Guatemala', 'Guernsey',\n",
       "       'Guinea', 'Guinea_Bissau', 'Guyana', 'Haiti', 'Holy_See',\n",
       "       'Honduras', 'Hungary', 'Iceland', 'India', 'Indonesia', 'Iran',\n",
       "       'Iraq', 'Ireland', 'Isle_of_Man', 'Israel', 'Italy', 'Jamaica',\n",
       "       'Japan', 'Jersey', 'Jordan', 'Kazakhstan', 'Kenya', 'Kosovo',\n",
       "       'Kuwait', 'Kyrgyzstan', 'Laos', 'Latvia', 'Lebanon', 'Lesotho',\n",
       "       'Liberia', 'Libya', 'Liechtenstein', 'Lithuania', 'Luxembourg',\n",
       "       'Madagascar', 'Malawi', 'Malaysia', 'Maldives', 'Mali', 'Malta',\n",
       "       'Marshall_Islands', 'Mauritania', 'Mauritius', 'Mexico', 'Moldova',\n",
       "       'Monaco', 'Mongolia', 'Montenegro', 'Montserrat', 'Morocco',\n",
       "       'Mozambique', 'Myanmar', 'Namibia', 'Nepal', 'Netherlands',\n",
       "       'New_Caledonia', 'New_Zealand', 'Nicaragua', 'Niger', 'Nigeria',\n",
       "       'North_Macedonia', 'Northern_Mariana_Islands', 'Norway', 'Oman',\n",
       "       'Pakistan', 'Palestine', 'Panama', 'Papua_New_Guinea', 'Paraguay',\n",
       "       'Peru', 'Philippines', 'Poland', 'Portugal', 'Puerto_Rico',\n",
       "       'Qatar', 'Romania', 'Russia', 'Rwanda', 'Saint_Kitts_and_Nevis',\n",
       "       'Saint_Lucia', 'Saint_Vincent_and_the_Grenadines', 'San_Marino',\n",
       "       'Sao_Tome_and_Principe', 'Saudi_Arabia', 'Senegal', 'Serbia',\n",
       "       'Seychelles', 'Sierra_Leone', 'Singapore', 'Sint_Maarten',\n",
       "       'Slovakia', 'Slovenia', 'Solomon_Islands', 'Somalia',\n",
       "       'South_Africa', 'South_Korea', 'South_Sudan', 'Spain', 'Sri_Lanka',\n",
       "       'Sudan', 'Suriname', 'Sweden', 'Switzerland', 'Syria', 'Taiwan',\n",
       "       'Tajikistan', 'Thailand', 'Timor_Leste', 'Togo',\n",
       "       'Trinidad_and_Tobago', 'Tunisia', 'Turkey',\n",
       "       'Turks_and_Caicos_islands', 'Uganda', 'Ukraine',\n",
       "       'United_Arab_Emirates', 'United_Kingdom',\n",
       "       'United_Republic_of_Tanzania', 'United_States_of_America',\n",
       "       'United_States_Virgin_Islands', 'Uruguay', 'Uzbekistan', 'Vanuatu',\n",
       "       'Venezuela', 'Vietnam', 'Wallis_and_Futuna', 'Western_Sahara',\n",
       "       'Yemen', 'Zambia', 'Zimbabwe'], dtype=object)"
      ]
     },
     "execution_count": 6,
     "metadata": {},
     "output_type": "execute_result"
    }
   ],
   "source": [
    "pandas.unique(df['countriesAndTerritories'])"
   ]
  },
  {
   "cell_type": "markdown",
   "id": "b5823ea5",
   "metadata": {},
   "source": [
    "## Andorra Data"
   ]
  },
  {
   "cell_type": "code",
   "execution_count": 8,
   "id": "a87ec125",
   "metadata": {},
   "outputs": [
    {
     "data": {
      "text/html": [
       "<div>\n",
       "<style scoped>\n",
       "    .dataframe tbody tr th:only-of-type {\n",
       "        vertical-align: middle;\n",
       "    }\n",
       "\n",
       "    .dataframe tbody tr th {\n",
       "        vertical-align: top;\n",
       "    }\n",
       "\n",
       "    .dataframe thead th {\n",
       "        text-align: right;\n",
       "    }\n",
       "</style>\n",
       "<table border=\"1\" class=\"dataframe\">\n",
       "  <thead>\n",
       "    <tr style=\"text-align: right;\">\n",
       "      <th></th>\n",
       "      <th>dateRep</th>\n",
       "      <th>day</th>\n",
       "      <th>month</th>\n",
       "      <th>year</th>\n",
       "      <th>cases</th>\n",
       "      <th>deaths</th>\n",
       "      <th>countriesAndTerritories</th>\n",
       "      <th>geoId</th>\n",
       "      <th>countryterritoryCode</th>\n",
       "      <th>popData2019</th>\n",
       "      <th>continentExp</th>\n",
       "      <th>Cumulative_number_for_14_days_of_COVID-19_cases_per_100000</th>\n",
       "    </tr>\n",
       "  </thead>\n",
       "  <tbody>\n",
       "    <tr>\n",
       "      <th>966</th>\n",
       "      <td>14/12/2020</td>\n",
       "      <td>14</td>\n",
       "      <td>12</td>\n",
       "      <td>2020</td>\n",
       "      <td>50</td>\n",
       "      <td>1</td>\n",
       "      <td>Andorra</td>\n",
       "      <td>AD</td>\n",
       "      <td>AND</td>\n",
       "      <td>76177.0</td>\n",
       "      <td>Europe</td>\n",
       "      <td>821.770351</td>\n",
       "    </tr>\n",
       "    <tr>\n",
       "      <th>967</th>\n",
       "      <td>13/12/2020</td>\n",
       "      <td>13</td>\n",
       "      <td>12</td>\n",
       "      <td>2020</td>\n",
       "      <td>52</td>\n",
       "      <td>0</td>\n",
       "      <td>Andorra</td>\n",
       "      <td>AD</td>\n",
       "      <td>AND</td>\n",
       "      <td>76177.0</td>\n",
       "      <td>Europe</td>\n",
       "      <td>811.268493</td>\n",
       "    </tr>\n",
       "    <tr>\n",
       "      <th>968</th>\n",
       "      <td>2020-12-12 00:00:00</td>\n",
       "      <td>12</td>\n",
       "      <td>12</td>\n",
       "      <td>2020</td>\n",
       "      <td>46</td>\n",
       "      <td>0</td>\n",
       "      <td>Andorra</td>\n",
       "      <td>AD</td>\n",
       "      <td>AND</td>\n",
       "      <td>76177.0</td>\n",
       "      <td>Europe</td>\n",
       "      <td>821.770351</td>\n",
       "    </tr>\n",
       "    <tr>\n",
       "      <th>969</th>\n",
       "      <td>2020-11-12 00:00:00</td>\n",
       "      <td>11</td>\n",
       "      <td>12</td>\n",
       "      <td>2020</td>\n",
       "      <td>28</td>\n",
       "      <td>0</td>\n",
       "      <td>Andorra</td>\n",
       "      <td>AD</td>\n",
       "      <td>AND</td>\n",
       "      <td>76177.0</td>\n",
       "      <td>Europe</td>\n",
       "      <td>861.152316</td>\n",
       "    </tr>\n",
       "    <tr>\n",
       "      <th>970</th>\n",
       "      <td>2020-10-12 00:00:00</td>\n",
       "      <td>10</td>\n",
       "      <td>12</td>\n",
       "      <td>2020</td>\n",
       "      <td>35</td>\n",
       "      <td>0</td>\n",
       "      <td>Andorra</td>\n",
       "      <td>AD</td>\n",
       "      <td>AND</td>\n",
       "      <td>76177.0</td>\n",
       "      <td>Europe</td>\n",
       "      <td>963.545427</td>\n",
       "    </tr>\n",
       "    <tr>\n",
       "      <th>971</th>\n",
       "      <td>2020-09-12 00:00:00</td>\n",
       "      <td>9</td>\n",
       "      <td>12</td>\n",
       "      <td>2020</td>\n",
       "      <td>43</td>\n",
       "      <td>0</td>\n",
       "      <td>Andorra</td>\n",
       "      <td>AD</td>\n",
       "      <td>AND</td>\n",
       "      <td>76177.0</td>\n",
       "      <td>Europe</td>\n",
       "      <td>1018.680179</td>\n",
       "    </tr>\n",
       "    <tr>\n",
       "      <th>972</th>\n",
       "      <td>2020-08-12 00:00:00</td>\n",
       "      <td>8</td>\n",
       "      <td>12</td>\n",
       "      <td>2020</td>\n",
       "      <td>34</td>\n",
       "      <td>0</td>\n",
       "      <td>Andorra</td>\n",
       "      <td>AD</td>\n",
       "      <td>AND</td>\n",
       "      <td>76177.0</td>\n",
       "      <td>Europe</td>\n",
       "      <td>1023.931108</td>\n",
       "    </tr>\n",
       "    <tr>\n",
       "      <th>973</th>\n",
       "      <td>2020-07-12 00:00:00</td>\n",
       "      <td>7</td>\n",
       "      <td>12</td>\n",
       "      <td>2020</td>\n",
       "      <td>45</td>\n",
       "      <td>0</td>\n",
       "      <td>Andorra</td>\n",
       "      <td>AD</td>\n",
       "      <td>AND</td>\n",
       "      <td>76177.0</td>\n",
       "      <td>Europe</td>\n",
       "      <td>1042.309358</td>\n",
       "    </tr>\n",
       "    <tr>\n",
       "      <th>974</th>\n",
       "      <td>2020-06-12 00:00:00</td>\n",
       "      <td>6</td>\n",
       "      <td>12</td>\n",
       "      <td>2020</td>\n",
       "      <td>50</td>\n",
       "      <td>1</td>\n",
       "      <td>Andorra</td>\n",
       "      <td>AD</td>\n",
       "      <td>AND</td>\n",
       "      <td>76177.0</td>\n",
       "      <td>Europe</td>\n",
       "      <td>1047.560287</td>\n",
       "    </tr>\n",
       "    <tr>\n",
       "      <th>975</th>\n",
       "      <td>2020-05-12 00:00:00</td>\n",
       "      <td>5</td>\n",
       "      <td>12</td>\n",
       "      <td>2020</td>\n",
       "      <td>51</td>\n",
       "      <td>0</td>\n",
       "      <td>Andorra</td>\n",
       "      <td>AD</td>\n",
       "      <td>AND</td>\n",
       "      <td>76177.0</td>\n",
       "      <td>Europe</td>\n",
       "      <td>1067.251270</td>\n",
       "    </tr>\n",
       "  </tbody>\n",
       "</table>\n",
       "</div>"
      ],
      "text/plain": [
       "                 dateRep  day  month  year  cases  deaths  \\\n",
       "966           14/12/2020   14     12  2020     50       1   \n",
       "967           13/12/2020   13     12  2020     52       0   \n",
       "968  2020-12-12 00:00:00   12     12  2020     46       0   \n",
       "969  2020-11-12 00:00:00   11     12  2020     28       0   \n",
       "970  2020-10-12 00:00:00   10     12  2020     35       0   \n",
       "971  2020-09-12 00:00:00    9     12  2020     43       0   \n",
       "972  2020-08-12 00:00:00    8     12  2020     34       0   \n",
       "973  2020-07-12 00:00:00    7     12  2020     45       0   \n",
       "974  2020-06-12 00:00:00    6     12  2020     50       1   \n",
       "975  2020-05-12 00:00:00    5     12  2020     51       0   \n",
       "\n",
       "    countriesAndTerritories geoId countryterritoryCode  popData2019  \\\n",
       "966                 Andorra    AD                  AND      76177.0   \n",
       "967                 Andorra    AD                  AND      76177.0   \n",
       "968                 Andorra    AD                  AND      76177.0   \n",
       "969                 Andorra    AD                  AND      76177.0   \n",
       "970                 Andorra    AD                  AND      76177.0   \n",
       "971                 Andorra    AD                  AND      76177.0   \n",
       "972                 Andorra    AD                  AND      76177.0   \n",
       "973                 Andorra    AD                  AND      76177.0   \n",
       "974                 Andorra    AD                  AND      76177.0   \n",
       "975                 Andorra    AD                  AND      76177.0   \n",
       "\n",
       "    continentExp  Cumulative_number_for_14_days_of_COVID-19_cases_per_100000  \n",
       "966       Europe                                         821.770351           \n",
       "967       Europe                                         811.268493           \n",
       "968       Europe                                         821.770351           \n",
       "969       Europe                                         861.152316           \n",
       "970       Europe                                         963.545427           \n",
       "971       Europe                                        1018.680179           \n",
       "972       Europe                                        1023.931108           \n",
       "973       Europe                                        1042.309358           \n",
       "974       Europe                                        1047.560287           \n",
       "975       Europe                                        1067.251270           "
      ]
     },
     "execution_count": 8,
     "metadata": {},
     "output_type": "execute_result"
    }
   ],
   "source": [
    "Andorra_data= df.loc[df['countriesAndTerritories']=='Andorra']\n",
    "Andorra_data[:10] #for simplication purposes, I am using the top ten data."
   ]
  },
  {
   "cell_type": "markdown",
   "id": "69b5ed5e",
   "metadata": {},
   "source": [
    "# What are the trends of Covid-19 cases in Andorra over time?"
   ]
  },
  {
   "cell_type": "code",
   "execution_count": 28,
   "id": "6c32bdbd",
   "metadata": {},
   "outputs": [
    {
     "data": {
      "text/plain": [
       "<AxesSubplot:xlabel='month'>"
      ]
     },
     "execution_count": 28,
     "metadata": {},
     "output_type": "execute_result"
    },
    {
     "data": {
      "image/png": "[encoded data removed]",
      "text/plain": [
       "<Figure size 432x288 with 1 Axes>"
      ]
     },
     "metadata": {
      "needs_background": "light"
     },
     "output_type": "display_data"
    }
   ],
   "source": [
    "covid_cases_over_time = Andorra_data.groupby('month').sum()['cases']\n",
    "covid_cases_over_time.plot() #Plotting number of cases over time using a line graph"
   ]
  },
  {
   "cell_type": "markdown",
   "id": "2da7f713",
   "metadata": {},
   "source": [
    "Based on the graph, there seems to not be a consistent trend. The cases reached their peak in October and started to drop since then. In April, cases started to drop, however, in August, cases began to make a straight increase. It is important to not that the graphs in this project all begin in the third month, March, because that is when the data started getting collected."
   ]
  },
  {
   "cell_type": "markdown",
   "id": "592a23a1",
   "metadata": {},
   "source": [
    "## What are the months with the highest cases in Andorra?"
   ]
  },
  {
   "cell_type": "code",
   "execution_count": 29,
   "id": "1781b8da",
   "metadata": {},
   "outputs": [
    {
     "data": {
      "text/plain": [
       "<AxesSubplot:xlabel='month'>"
      ]
     },
     "execution_count": 29,
     "metadata": {},
     "output_type": "execute_result"
    },
    {
     "data": {
      "image/png": "[encoded data removed]",
      "text/plain": [
       "<Figure size 432x288 with 1 Axes>"
      ]
     },
     "metadata": {
      "needs_background": "light"
     },
     "output_type": "display_data"
    }
   ],
   "source": [
    "sum_cases_by_month= Andorra_data.groupby('month').sum()['cases']\n",
    "sum_cases_by_month.plot.bar() #Displaying months with highest number of cases in a bar graph"
   ]
  },
  {
   "cell_type": "markdown",
   "id": "a4beb767",
   "metadata": {},
   "source": [
    "Based on the graph, October had the most cases, followed by November. May, June, and July had the lowest amount of cases. "
   ]
  },
  {
   "cell_type": "markdown",
   "id": "deb1a8cc",
   "metadata": {},
   "source": [
    "## How many covid related deaths are there in Andorra?"
   ]
  },
  {
   "cell_type": "code",
   "execution_count": 31,
   "id": "b9c6a7ed",
   "metadata": {},
   "outputs": [
    {
     "data": {
      "text/plain": [
       "<AxesSubplot:xlabel='dateRep'>"
      ]
     },
     "execution_count": 31,
     "metadata": {},
     "output_type": "execute_result"
    },
    {
     "data": {
      "image/png": "[encoded data removed]",
      "text/plain": [
       "<Figure size 432x288 with 1 Axes>"
      ]
     },
     "metadata": {
      "needs_background": "light"
     },
     "output_type": "display_data"
    }
   ],
   "source": [
    "Andorra_deaths=Andorra_data.groupby('dateRep').sum()['deaths']\n",
    "Andorra_deaths.plot() #Displaying covid related deaths on a line graph"
   ]
  },
  {
   "cell_type": "markdown",
   "id": "78773868",
   "metadata": {},
   "source": [
    "From March to April, there was a steady increase and a peak in covid related deaths. From April, it started to drop and remained low until a steady rise in September. There was then a drop in October."
   ]
  },
  {
   "cell_type": "markdown",
   "id": "001221b1",
   "metadata": {},
   "source": [
    "## Conclusion"
   ]
  },
  {
   "cell_type": "markdown",
   "id": "908b2f9a",
   "metadata": {},
   "source": [
    "To conclude, Andorra had its peak in Covid cases in October and November of 2020. Surprisingly, there was an inverse relationship between Covid cases and deaths. Though there was a peak of cases in October and November, the highest peak for covid related deaths was in April with its next peak in October. April was one of the lowest moments of Covid cases. My limitations to this project was my lack of prior knowledge of programming before this class. Though I was equipped to complete this project, I was limited to finding out certain information because of my skill level. Another limitation is the data that is given. The data is only limited to 10 months in the year 2020. It would be beneficial to have updated information regarding Covid-19 spanning over more time."
   ]
  },
  {
   "cell_type": "code",
   "execution_count": null,
   "id": "a47bcb23",
   "metadata": {},
   "outputs": [],
   "source": []
  }
 ],
 "metadata": {
  "kernelspec": {
   "display_name": "conda_python3",
   "language": "python",
   "name": "conda_python3"
  },
  "language_info": {
   "codemirror_mode": {
    "name": "ipython",
    "version": 3
   },
   "file_extension": ".py",
   "mimetype": "text/x-python",
   "name": "python",
   "nbconvert_exporter": "python",
   "pygments_lexer": "ipython3",
   "version": "3.6.13"
  }
 },
 "nbformat": 4,
 "nbformat_minor": 5
}

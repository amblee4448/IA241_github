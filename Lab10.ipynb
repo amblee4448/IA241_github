{
 "cells": [
  {
   "cell_type": "code",
   "execution_count": 1,
   "id": "7e87f50f",
   "metadata": {},
   "outputs": [
    {
     "name": "stdout",
     "output_type": "stream",
     "text": [
      "hello\n"
     ]
    }
   ],
   "source": [
    "print(\"hello\")"
   ]
  },
  {
   "cell_type": "markdown",
   "id": "a18565ed",
   "metadata": {},
   "source": [
    "# lab10\n"
   ]
  },
  {
   "cell_type": "markdown",
   "id": "c02c96c9",
   "metadata": {},
   "source": [
    "1. item one\n",
    "2. item two\n",
    "3. item three"
   ]
  },
  {
   "cell_type": "code",
   "execution_count": 5,
   "id": "1bd38c0a",
   "metadata": {},
   "outputs": [
    {
     "data": {
      "text/plain": [
       "7"
      ]
     },
     "execution_count": 5,
     "metadata": {},
     "output_type": "execute_result"
    }
   ],
   "source": [
    "a = 3\n",
    "b = 4\n",
    "a+b"
   ]
  },
  {
   "cell_type": "code",
   "execution_count": null,
   "id": "ac4ae929",
   "metadata": {},
   "outputs": [],
   "source": []
  }
 ],
 "metadata": {
  "kernelspec": {
   "display_name": "conda_python3",
   "language": "python",
   "name": "conda_python3"
  },
  "language_info": {
   "codemirror_mode": {
    "name": "ipython",
    "version": 3
   },
   "file_extension": ".py",
   "mimetype": "text/x-python",
   "name": "python",
   "nbconvert_exporter": "python",
   "pygments_lexer": "ipython3",
   "version": "3.6.13"
  }
 },
 "nbformat": 4,
 "nbformat_minor": 5
}
